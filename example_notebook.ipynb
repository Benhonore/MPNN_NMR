{
 "cells": [
  {
   "cell_type": "markdown",
   "id": "e77e7af4",
   "metadata": {},
   "source": [
    "<u/>**IMPORTING REQUIRED MODULES**<u/>"
   ]
  },
  {
   "cell_type": "code",
   "execution_count": 1,
   "id": "58e35c5a",
   "metadata": {},
   "outputs": [
    {
     "name": "stderr",
     "output_type": "stream",
     "text": [
      "/home/benhonore/miniconda3/envs/pe/lib/python3.8/site-packages/tqdm/auto.py:22: TqdmWarning: IProgress not found. Please update jupyter and ipywidgets. See https://ipywidgets.readthedocs.io/en/stable/user_install.html\n",
      "  from .autonotebook import tqdm as notebook_tqdm\n"
     ]
    }
   ],
   "source": [
    "import pandas as pd\n",
    "import numpy as np\n",
    "import sys\n",
    "import networkx as nx\n",
    "import matplotlib.pyplot as plt\n",
    "from torch_geometric.utils import to_networkx\n",
    "\n",
    "def visualize_graph(G, color):\n",
    "    plt.figure(figsize=(7,7))\n",
    "    plt.xticks([])\n",
    "    plt.yticks([])\n",
    "    nx.draw_networkx(G, pos=nx.spring_layout(G, seed=42), with_labels=False,\n",
    "                     node_color=color, cmap=\"Set2\")\n",
    "    plt.show()\n",
    "\n",
    "from torch_geometric.nn import NNConv\n",
    "from torch_geometric.nn import CGConv\n",
    "from torch.nn import Linear"
   ]
  },
  {
   "cell_type": "code",
   "execution_count": 2,
   "id": "fedcc37a",
   "metadata": {},
   "outputs": [],
   "source": [
    "sys.path.append('/home/benhonore/mpnn/MPNN_NMR/')"
   ]
  },
  {
   "cell_type": "code",
   "execution_count": 3,
   "id": "b634e1ac",
   "metadata": {},
   "outputs": [],
   "source": [
    "import modules.scaling as scl\n",
    "from modules.make_3d_graphs import make_graphs\n",
    "from NNConv_model import NNConv_model"
   ]
  },
  {
   "cell_type": "markdown",
   "id": "0746bad6",
   "metadata": {},
   "source": [
    "_Define the input parameters for the model. Any parameters not included will be set to the default which can be found in the NNConv_model file._"
   ]
  },
  {
   "cell_type": "code",
   "execution_count": 4,
   "id": "04c410df",
   "metadata": {},
   "outputs": [],
   "source": [
    "parameters = {'tr_epochs':200, 'batch_size':10, 'dropout':0.4, 'learning_rate': 0.001, 'embedding_size':20}"
   ]
  },
  {
   "cell_type": "code",
   "execution_count": 5,
   "id": "f5e8d145",
   "metadata": {},
   "outputs": [],
   "source": [
    "model = NNConv_model(id='my_test_model', model_params=parameters)"
   ]
  },
  {
   "cell_type": "code",
   "execution_count": 6,
   "id": "fc956f57",
   "metadata": {},
   "outputs": [
    {
     "data": {
      "text/plain": [
       "{'tr_epochs': 200,\n",
       " 'batch_size': 10,\n",
       " 'dropout': 0.4,\n",
       " 'learning_rate': 0.001,\n",
       " 'embedding_size': 20}"
      ]
     },
     "execution_count": 6,
     "metadata": {},
     "output_type": "execute_result"
    }
   ],
   "source": [
    "model.params"
   ]
  },
  {
   "cell_type": "markdown",
   "id": "229ff713",
   "metadata": {},
   "source": [
    "<u/>**MAKE GRAPHS**<u/>"
   ]
  },
  {
   "cell_type": "markdown",
   "id": "e5689dfa",
   "metadata": {},
   "source": [
    "_The input molecular graphs are made from a pandas dataframe containg the molecular information._"
   ]
  },
  {
   "cell_type": "code",
   "execution_count": 7,
   "id": "05db47a0",
   "metadata": {},
   "outputs": [],
   "source": [
    "data4=pd.read_pickle('/home/benhonore/dataframes/dat_4/dataset4_atoms.pkl')"
   ]
  },
  {
   "cell_type": "code",
   "execution_count": 8,
   "id": "05367c42",
   "metadata": {},
   "outputs": [
    {
     "data": {
      "text/html": [
       "<div>\n",
       "<style scoped>\n",
       "    .dataframe tbody tr th:only-of-type {\n",
       "        vertical-align: middle;\n",
       "    }\n",
       "\n",
       "    .dataframe tbody tr th {\n",
       "        vertical-align: top;\n",
       "    }\n",
       "\n",
       "    .dataframe thead th {\n",
       "        text-align: right;\n",
       "    }\n",
       "</style>\n",
       "<table border=\"1\" class=\"dataframe\">\n",
       "  <thead>\n",
       "    <tr style=\"text-align: right;\">\n",
       "      <th></th>\n",
       "      <th>molecule_name</th>\n",
       "      <th>atom_index</th>\n",
       "      <th>typestr</th>\n",
       "      <th>typeint</th>\n",
       "      <th>x</th>\n",
       "      <th>y</th>\n",
       "      <th>z</th>\n",
       "      <th>conn</th>\n",
       "      <th>shift</th>\n",
       "    </tr>\n",
       "  </thead>\n",
       "  <tbody>\n",
       "    <tr>\n",
       "      <th>0</th>\n",
       "      <td>FAHPAH</td>\n",
       "      <td>0</td>\n",
       "      <td>O</td>\n",
       "      <td>8</td>\n",
       "      <td>-2.6930</td>\n",
       "      <td>0.1989</td>\n",
       "      <td>-0.9482</td>\n",
       "      <td>[0, 1, 0, 0, 0, 0, 0, 0, 0, 0, 0, 0, 1, 0, 0, ...</td>\n",
       "      <td>284.820100</td>\n",
       "    </tr>\n",
       "    <tr>\n",
       "      <th>1</th>\n",
       "      <td>FAHPAH</td>\n",
       "      <td>1</td>\n",
       "      <td>H</td>\n",
       "      <td>1</td>\n",
       "      <td>-3.3525</td>\n",
       "      <td>0.7547</td>\n",
       "      <td>-0.5302</td>\n",
       "      <td>[1, 0, 0, 0, 0, 0, 0, 0, 0, 0, 0, 0, 0, 0, 0, ...</td>\n",
       "      <td>0.017446</td>\n",
       "    </tr>\n",
       "    <tr>\n",
       "      <th>2</th>\n",
       "      <td>FAHPAH</td>\n",
       "      <td>2</td>\n",
       "      <td>O</td>\n",
       "      <td>8</td>\n",
       "      <td>2.6896</td>\n",
       "      <td>-0.3392</td>\n",
       "      <td>-0.8545</td>\n",
       "      <td>[0, 0, 0, 1, 0, 0, 1, 0, 0, 0, 0, 0, 0, 0, 0, ...</td>\n",
       "      <td>284.208300</td>\n",
       "    </tr>\n",
       "    <tr>\n",
       "      <th>3</th>\n",
       "      <td>FAHPAH</td>\n",
       "      <td>3</td>\n",
       "      <td>H</td>\n",
       "      <td>1</td>\n",
       "      <td>3.1996</td>\n",
       "      <td>0.3223</td>\n",
       "      <td>-1.3239</td>\n",
       "      <td>[0, 0, 1, 0, 0, 0, 0, 0, 0, 0, 0, 0, 0, 0, 0, ...</td>\n",
       "      <td>-0.085642</td>\n",
       "    </tr>\n",
       "    <tr>\n",
       "      <th>4</th>\n",
       "      <td>FAHPAH</td>\n",
       "      <td>4</td>\n",
       "      <td>C</td>\n",
       "      <td>6</td>\n",
       "      <td>1.0244</td>\n",
       "      <td>1.3952</td>\n",
       "      <td>-0.5274</td>\n",
       "      <td>[0, 0, 0, 0, 0, 1, 1, 0, 0, 0, 0, 0, 0, 0, 2, ...</td>\n",
       "      <td>131.447832</td>\n",
       "    </tr>\n",
       "    <tr>\n",
       "      <th>...</th>\n",
       "      <td>...</td>\n",
       "      <td>...</td>\n",
       "      <td>...</td>\n",
       "      <td>...</td>\n",
       "      <td>...</td>\n",
       "      <td>...</td>\n",
       "      <td>...</td>\n",
       "      <td>...</td>\n",
       "      <td>...</td>\n",
       "    </tr>\n",
       "    <tr>\n",
       "      <th>35396</th>\n",
       "      <td>MINGAR</td>\n",
       "      <td>73</td>\n",
       "      <td>H</td>\n",
       "      <td>1</td>\n",
       "      <td>-0.8399</td>\n",
       "      <td>3.8116</td>\n",
       "      <td>3.5608</td>\n",
       "      <td>[0, 0, 0, 0, 0, 0, 0, 0, 0, 0, 0, 0, 0, 0, 0, ...</td>\n",
       "      <td>7.137793</td>\n",
       "    </tr>\n",
       "    <tr>\n",
       "      <th>35397</th>\n",
       "      <td>MINGAR</td>\n",
       "      <td>74</td>\n",
       "      <td>C</td>\n",
       "      <td>6</td>\n",
       "      <td>-0.7543</td>\n",
       "      <td>1.7094</td>\n",
       "      <td>3.1118</td>\n",
       "      <td>[0, 0, 0, 0, 0, 0, 0, 0, 0, 0, 0, 0, 0, 0, 0, ...</td>\n",
       "      <td>125.960862</td>\n",
       "    </tr>\n",
       "    <tr>\n",
       "      <th>35398</th>\n",
       "      <td>MINGAR</td>\n",
       "      <td>75</td>\n",
       "      <td>H</td>\n",
       "      <td>1</td>\n",
       "      <td>-1.6531</td>\n",
       "      <td>1.4707</td>\n",
       "      <td>3.6689</td>\n",
       "      <td>[0, 0, 0, 0, 0, 0, 0, 0, 0, 0, 0, 0, 0, 0, 0, ...</td>\n",
       "      <td>7.303293</td>\n",
       "    </tr>\n",
       "    <tr>\n",
       "      <th>35399</th>\n",
       "      <td>MINGAR</td>\n",
       "      <td>76</td>\n",
       "      <td>C</td>\n",
       "      <td>6</td>\n",
       "      <td>-0.0594</td>\n",
       "      <td>0.6953</td>\n",
       "      <td>2.4658</td>\n",
       "      <td>[0, 0, 0, 0, 0, 0, 0, 0, 0, 0, 0, 0, 0, 0, 0, ...</td>\n",
       "      <td>126.726608</td>\n",
       "    </tr>\n",
       "    <tr>\n",
       "      <th>35400</th>\n",
       "      <td>MINGAR</td>\n",
       "      <td>77</td>\n",
       "      <td>H</td>\n",
       "      <td>1</td>\n",
       "      <td>-0.4335</td>\n",
       "      <td>-0.3185</td>\n",
       "      <td>2.5276</td>\n",
       "      <td>[0, 0, 0, 0, 0, 0, 0, 0, 0, 0, 0, 0, 0, 0, 0, ...</td>\n",
       "      <td>7.056162</td>\n",
       "    </tr>\n",
       "  </tbody>\n",
       "</table>\n",
       "<p>35401 rows × 9 columns</p>\n",
       "</div>"
      ],
      "text/plain": [
       "      molecule_name  atom_index typestr  typeint       x       y       z  \\\n",
       "0            FAHPAH           0       O        8 -2.6930  0.1989 -0.9482   \n",
       "1            FAHPAH           1       H        1 -3.3525  0.7547 -0.5302   \n",
       "2            FAHPAH           2       O        8  2.6896 -0.3392 -0.8545   \n",
       "3            FAHPAH           3       H        1  3.1996  0.3223 -1.3239   \n",
       "4            FAHPAH           4       C        6  1.0244  1.3952 -0.5274   \n",
       "...             ...         ...     ...      ...     ...     ...     ...   \n",
       "35396        MINGAR          73       H        1 -0.8399  3.8116  3.5608   \n",
       "35397        MINGAR          74       C        6 -0.7543  1.7094  3.1118   \n",
       "35398        MINGAR          75       H        1 -1.6531  1.4707  3.6689   \n",
       "35399        MINGAR          76       C        6 -0.0594  0.6953  2.4658   \n",
       "35400        MINGAR          77       H        1 -0.4335 -0.3185  2.5276   \n",
       "\n",
       "                                                    conn       shift  \n",
       "0      [0, 1, 0, 0, 0, 0, 0, 0, 0, 0, 0, 0, 1, 0, 0, ...  284.820100  \n",
       "1      [1, 0, 0, 0, 0, 0, 0, 0, 0, 0, 0, 0, 0, 0, 0, ...    0.017446  \n",
       "2      [0, 0, 0, 1, 0, 0, 1, 0, 0, 0, 0, 0, 0, 0, 0, ...  284.208300  \n",
       "3      [0, 0, 1, 0, 0, 0, 0, 0, 0, 0, 0, 0, 0, 0, 0, ...   -0.085642  \n",
       "4      [0, 0, 0, 0, 0, 1, 1, 0, 0, 0, 0, 0, 0, 0, 2, ...  131.447832  \n",
       "...                                                  ...         ...  \n",
       "35396  [0, 0, 0, 0, 0, 0, 0, 0, 0, 0, 0, 0, 0, 0, 0, ...    7.137793  \n",
       "35397  [0, 0, 0, 0, 0, 0, 0, 0, 0, 0, 0, 0, 0, 0, 0, ...  125.960862  \n",
       "35398  [0, 0, 0, 0, 0, 0, 0, 0, 0, 0, 0, 0, 0, 0, 0, ...    7.303293  \n",
       "35399  [0, 0, 0, 0, 0, 0, 0, 0, 0, 0, 0, 0, 0, 0, 0, ...  126.726608  \n",
       "35400  [0, 0, 0, 0, 0, 0, 0, 0, 0, 0, 0, 0, 0, 0, 0, ...    7.056162  \n",
       "\n",
       "[35401 rows x 9 columns]"
      ]
     },
     "execution_count": 8,
     "metadata": {},
     "output_type": "execute_result"
    }
   ],
   "source": [
    "data4"
   ]
  },
  {
   "cell_type": "markdown",
   "id": "ae5b2f6f",
   "metadata": {},
   "source": [
    "_Returned are a list of graphs, the dictionary of parameters used to normalise the chemical shifts, a dataframe including the updated normalised chemical shifts and a list of any molecules which have failed and been skipped._"
   ]
  },
  {
   "cell_type": "code",
   "execution_count": 9,
   "id": "67c85c20",
   "metadata": {},
   "outputs": [
    {
     "name": "stdout",
     "output_type": "stream",
     "text": [
      "scaling..\n"
     ]
    },
    {
     "name": "stderr",
     "output_type": "stream",
     "text": [
      "100%|███████████████████████████████████████████████████████████████████████████████████| 10/10 [00:42<00:00,  4.23s/it]\n",
      "  0%|                                                                                           | 0/772 [00:00<?, ?it/s]/home/benhonore/mpnn/MPNN_NMR/modules/make_3d_graphs.py:94: UserWarning: Creating a tensor from a list of numpy.ndarrays is extremely slow. Please consider converting the list to a single numpy.ndarray with numpy.array() before converting to a tensor. (Triggered internally at  /opt/conda/conda-bld/pytorch_1640811740025/work/torch/csrc/utils/tensor_new.cpp:201.)\n",
      "  edge_attr = torch.tensor([np.array(bond_type), np.array(dist)], dtype=torch.float32).t()\n",
      "100%|█████████████████████████████████████████████████████████████████████████████████| 772/772 [07:37<00:00,  1.69it/s]\n"
     ]
    }
   ],
   "source": [
    "tr_graphs, tr_scl_dict, data, failed = make_graphs(data4)"
   ]
  },
  {
   "cell_type": "code",
   "execution_count": 10,
   "id": "58208e59",
   "metadata": {},
   "outputs": [],
   "source": [
    "model.loader = model.get_input(tr_graphs)"
   ]
  },
  {
   "cell_type": "markdown",
   "id": "d4c71074",
   "metadata": {},
   "source": [
    "_For example, here is the first molecular graph in the list_"
   ]
  },
  {
   "cell_type": "code",
   "execution_count": 12,
   "id": "042af97d",
   "metadata": {},
   "outputs": [
    {
     "name": "stdout",
     "output_type": "stream",
     "text": [
      "772\n"
     ]
    },
    {
     "data": {
      "image/png": "[encoded data removed]",
      "text/plain": [
       "<Figure size 504x504 with 1 Axes>"
      ]
     },
     "metadata": {},
     "output_type": "display_data"
    }
   ],
   "source": [
    "print(len(tr_graphs))\n",
    "show_graph = to_networkx(tr_graphs[0])\n",
    "visualize_graph(show_graph, 'blue')"
   ]
  },
  {
   "cell_type": "markdown",
   "id": "d5177084",
   "metadata": {},
   "source": [
    "<u/>**TRAIN**<u/>"
   ]
  },
  {
   "cell_type": "markdown",
   "id": "5c74fc0c",
   "metadata": {},
   "source": [
    "_Now we train the model, for the number of epochs specified in the input parameters_"
   ]
  },
  {
   "cell_type": "code",
   "execution_count": 13,
   "id": "d974a9f6",
   "metadata": {},
   "outputs": [
    {
     "name": "stderr",
     "output_type": "stream",
     "text": [
      "  0%|▍                                                                                | 1/200 [00:22<1:15:48, 22.86s/it]"
     ]
    },
    {
     "name": "stdout",
     "output_type": "stream",
     "text": [
      "epoch 0 | loss 0.9298012852668762\n"
     ]
    },
    {
     "name": "stderr",
     "output_type": "stream",
     "text": [
      "  6%|████▍                                                                           | 11/200 [04:18<1:14:45, 23.73s/it]"
     ]
    },
    {
     "name": "stdout",
     "output_type": "stream",
     "text": [
      "epoch 10 | loss 0.483218789100647\n"
     ]
    },
    {
     "name": "stderr",
     "output_type": "stream",
     "text": [
      " 10%|████████▍                                                                       | 21/200 [08:27<1:14:48, 25.08s/it]"
     ]
    },
    {
     "name": "stdout",
     "output_type": "stream",
     "text": [
      "epoch 20 | loss 0.3870633542537689\n"
     ]
    },
    {
     "name": "stderr",
     "output_type": "stream",
     "text": [
      " 16%|████████████▍                                                                   | 31/200 [12:41<1:11:00, 25.21s/it]"
     ]
    },
    {
     "name": "stdout",
     "output_type": "stream",
     "text": [
      "epoch 30 | loss 0.2616577446460724\n"
     ]
    },
    {
     "name": "stderr",
     "output_type": "stream",
     "text": [
      " 20%|████████████████▍                                                               | 41/200 [16:48<1:04:45, 24.44s/it]"
     ]
    },
    {
     "name": "stdout",
     "output_type": "stream",
     "text": [
      "epoch 40 | loss 0.25622427463531494\n"
     ]
    },
    {
     "name": "stderr",
     "output_type": "stream",
     "text": [
      " 26%|████████████████████▍                                                           | 51/200 [20:57<1:03:09, 25.43s/it]"
     ]
    },
    {
     "name": "stdout",
     "output_type": "stream",
     "text": [
      "epoch 50 | loss 0.16569672524929047\n"
     ]
    },
    {
     "name": "stderr",
     "output_type": "stream",
     "text": [
      " 30%|█████████████████████████                                                         | 61/200 [25:04<57:28, 24.81s/it]"
     ]
    },
    {
     "name": "stdout",
     "output_type": "stream",
     "text": [
      "epoch 60 | loss 0.18209190666675568\n"
     ]
    },
    {
     "name": "stderr",
     "output_type": "stream",
     "text": [
      " 36%|█████████████████████████████                                                     | 71/200 [29:11<53:17, 24.79s/it]"
     ]
    },
    {
     "name": "stdout",
     "output_type": "stream",
     "text": [
      "epoch 70 | loss 0.12513890862464905\n"
     ]
    },
    {
     "name": "stderr",
     "output_type": "stream",
     "text": [
      " 40%|█████████████████████████████████▏                                                | 81/200 [33:19<49:18, 24.86s/it]"
     ]
    },
    {
     "name": "stdout",
     "output_type": "stream",
     "text": [
      "epoch 80 | loss 0.13233214616775513\n"
     ]
    },
    {
     "name": "stderr",
     "output_type": "stream",
     "text": [
      " 46%|█████████████████████████████████████▎                                            | 91/200 [37:24<44:30, 24.50s/it]"
     ]
    },
    {
     "name": "stdout",
     "output_type": "stream",
     "text": [
      "epoch 90 | loss 0.0972185805439949\n"
     ]
    },
    {
     "name": "stderr",
     "output_type": "stream",
     "text": [
      " 50%|████████████████████████████████████████▉                                        | 101/200 [41:54<45:22, 27.50s/it]"
     ]
    },
    {
     "name": "stdout",
     "output_type": "stream",
     "text": [
      "epoch 100 | loss 0.10927709937095642\n"
     ]
    },
    {
     "name": "stderr",
     "output_type": "stream",
     "text": [
      " 56%|████████████████████████████████████████████▉                                    | 111/200 [46:02<36:22, 24.52s/it]"
     ]
    },
    {
     "name": "stdout",
     "output_type": "stream",
     "text": [
      "epoch 110 | loss 0.08336364477872849\n"
     ]
    },
    {
     "name": "stderr",
     "output_type": "stream",
     "text": [
      " 60%|█████████████████████████████████████████████████                                | 121/200 [50:10<32:14, 24.49s/it]"
     ]
    },
    {
     "name": "stdout",
     "output_type": "stream",
     "text": [
      "epoch 120 | loss 0.07107876986265182\n"
     ]
    },
    {
     "name": "stderr",
     "output_type": "stream",
     "text": [
      " 66%|█████████████████████████████████████████████████████                            | 131/200 [54:16<28:22, 24.67s/it]"
     ]
    },
    {
     "name": "stdout",
     "output_type": "stream",
     "text": [
      "epoch 130 | loss 0.07564552128314972\n"
     ]
    },
    {
     "name": "stderr",
     "output_type": "stream",
     "text": [
      " 70%|█████████████████████████████████████████████████████████                        | 141/200 [58:20<23:53, 24.30s/it]"
     ]
    },
    {
     "name": "stdout",
     "output_type": "stream",
     "text": [
      "epoch 140 | loss 0.07672664523124695\n"
     ]
    },
    {
     "name": "stderr",
     "output_type": "stream",
     "text": [
      " 76%|███████████████████████████████████████████████████████████▋                   | 151/200 [1:02:44<21:14, 26.01s/it]"
     ]
    },
    {
     "name": "stdout",
     "output_type": "stream",
     "text": [
      "epoch 150 | loss 0.05391132831573486\n"
     ]
    },
    {
     "name": "stderr",
     "output_type": "stream",
     "text": [
      " 80%|███████████████████████████████████████████████████████████████▌               | 161/200 [1:06:50<15:57, 24.55s/it]"
     ]
    },
    {
     "name": "stdout",
     "output_type": "stream",
     "text": [
      "epoch 160 | loss 0.06541234999895096\n"
     ]
    },
    {
     "name": "stderr",
     "output_type": "stream",
     "text": [
      " 86%|███████████████████████████████████████████████████████████████████▌           | 171/200 [1:10:54<11:48, 24.42s/it]"
     ]
    },
    {
     "name": "stdout",
     "output_type": "stream",
     "text": [
      "epoch 170 | loss 0.07434579730033875\n"
     ]
    },
    {
     "name": "stderr",
     "output_type": "stream",
     "text": [
      " 90%|███████████████████████████████████████████████████████████████████████▍       | 181/200 [1:15:48<09:54, 31.28s/it]"
     ]
    },
    {
     "name": "stdout",
     "output_type": "stream",
     "text": [
      "epoch 180 | loss 0.06695756316184998\n"
     ]
    },
    {
     "name": "stderr",
     "output_type": "stream",
     "text": [
      " 96%|███████████████████████████████████████████████████████████████████████████▍   | 191/200 [1:21:44<05:33, 37.01s/it]"
     ]
    },
    {
     "name": "stdout",
     "output_type": "stream",
     "text": [
      "epoch 190 | loss 0.05534672364592552\n"
     ]
    },
    {
     "name": "stderr",
     "output_type": "stream",
     "text": [
      "100%|███████████████████████████████████████████████████████████████████████████████| 200/200 [1:27:20<00:00, 26.20s/it]\n"
     ]
    }
   ],
   "source": [
    "losses = model.train(model.loader)"
   ]
  },
  {
   "cell_type": "markdown",
   "id": "8f571351",
   "metadata": {},
   "source": [
    "_We can see the internal error decreases with more training_"
   ]
  },
  {
   "cell_type": "code",
   "execution_count": 14,
   "id": "58cbfe87",
   "metadata": {
    "scrolled": true
   },
   "outputs": [
    {
     "data": {
      "text/plain": [
       "[<matplotlib.lines.Line2D at 0x7f1967928970>]"
      ]
     },
     "execution_count": 14,
     "metadata": {},
     "output_type": "execute_result"
    },
    {
     "data": {
      "image/png": "[encoded data removed]",
      "text/plain": [
       "<Figure size 432x288 with 1 Axes>"
      ]
     },
     "metadata": {
      "needs_background": "light"
     },
     "output_type": "display_data"
    }
   ],
   "source": [
    "epochs = range(200)\n",
    "fig = plt.figure()\n",
    "fig.subplots_adjust()\n",
    "ax1 = fig.add_subplot()\n",
    "ax1.set_xlabel('Training Iteration')\n",
    "ax1.set_ylabel('Training Loss')\n",
    "\n",
    "plt.grid(alpha=0.3)\n",
    "ax1.plot(epochs, losses)"
   ]
  },
  {
   "cell_type": "markdown",
   "id": "e3498abc",
   "metadata": {},
   "source": [
    "<u/>**TEST**<u/>"
   ]
  },
  {
   "cell_type": "markdown",
   "id": "af95cd68",
   "metadata": {},
   "source": [
    "_Now set an external test for your model: give it some new data that is hasn't seen before to predict_"
   ]
  },
  {
   "cell_type": "code",
   "execution_count": 15,
   "id": "5f854887",
   "metadata": {},
   "outputs": [],
   "source": [
    "data3=pd.read_pickle('/home/benhonore/dataframes/dat_3.1/dataset3.1_shifts.pkl')"
   ]
  },
  {
   "cell_type": "code",
   "execution_count": 16,
   "id": "5d2de6e7",
   "metadata": {},
   "outputs": [
    {
     "name": "stdout",
     "output_type": "stream",
     "text": [
      "scaling..\n"
     ]
    },
    {
     "name": "stderr",
     "output_type": "stream",
     "text": [
      "100%|███████████████████████████████████████████████████████████████████████████████████| 10/10 [00:16<00:00,  1.60s/it]\n",
      "100%|█████████████████████████████████████████████████████████████████████████████████| 326/326 [02:36<00:00,  2.09it/s]\n"
     ]
    }
   ],
   "source": [
    "te_graphs, te_scl_dict, data, failed = make_graphs(data3)"
   ]
  },
  {
   "cell_type": "code",
   "execution_count": 19,
   "id": "d2cf46cf",
   "metadata": {},
   "outputs": [],
   "source": [
    "model.test_loader = model.get_input(te_graphs)"
   ]
  },
  {
   "cell_type": "markdown",
   "id": "9a8cfd08",
   "metadata": {},
   "source": [
    "<u/>**PREDICT**<u/>"
   ]
  },
  {
   "cell_type": "code",
   "execution_count": 20,
   "id": "16876f3a",
   "metadata": {},
   "outputs": [],
   "source": [
    "predicted_df=model.predict(model.test_loader, te_scl_dict)"
   ]
  },
  {
   "cell_type": "code",
   "execution_count": 21,
   "id": "ff23a581",
   "metadata": {},
   "outputs": [
    {
     "data": {
      "text/html": [
       "<div>\n",
       "<style scoped>\n",
       "    .dataframe tbody tr th:only-of-type {\n",
       "        vertical-align: middle;\n",
       "    }\n",
       "\n",
       "    .dataframe tbody tr th {\n",
       "        vertical-align: top;\n",
       "    }\n",
       "\n",
       "    .dataframe thead th {\n",
       "        text-align: right;\n",
       "    }\n",
       "</style>\n",
       "<table border=\"1\" class=\"dataframe\">\n",
       "  <thead>\n",
       "    <tr style=\"text-align: right;\">\n",
       "      <th></th>\n",
       "      <th>typestr</th>\n",
       "      <th>normalized_shift</th>\n",
       "      <th>normalized_prediction</th>\n",
       "      <th>shift</th>\n",
       "      <th>predicted_shift</th>\n",
       "    </tr>\n",
       "  </thead>\n",
       "  <tbody>\n",
       "    <tr>\n",
       "      <th>0</th>\n",
       "      <td>C</td>\n",
       "      <td>1.411043</td>\n",
       "      <td>1.028855</td>\n",
       "      <td>166.668432</td>\n",
       "      <td>148.192394</td>\n",
       "    </tr>\n",
       "    <tr>\n",
       "      <th>1</th>\n",
       "      <td>C</td>\n",
       "      <td>-1.488488</td>\n",
       "      <td>-1.160149</td>\n",
       "      <td>26.496875</td>\n",
       "      <td>42.369706</td>\n",
       "    </tr>\n",
       "    <tr>\n",
       "      <th>2</th>\n",
       "      <td>H</td>\n",
       "      <td>-0.379123</td>\n",
       "      <td>-0.374193</td>\n",
       "      <td>2.996642</td>\n",
       "      <td>3.009350</td>\n",
       "    </tr>\n",
       "    <tr>\n",
       "      <th>3</th>\n",
       "      <td>H</td>\n",
       "      <td>-0.693572</td>\n",
       "      <td>-0.425799</td>\n",
       "      <td>2.186118</td>\n",
       "      <td>2.876331</td>\n",
       "    </tr>\n",
       "    <tr>\n",
       "      <th>4</th>\n",
       "      <td>C</td>\n",
       "      <td>-1.071960</td>\n",
       "      <td>-1.057871</td>\n",
       "      <td>46.633042</td>\n",
       "      <td>47.314120</td>\n",
       "    </tr>\n",
       "    <tr>\n",
       "      <th>...</th>\n",
       "      <td>...</td>\n",
       "      <td>...</td>\n",
       "      <td>...</td>\n",
       "      <td>...</td>\n",
       "      <td>...</td>\n",
       "    </tr>\n",
       "    <tr>\n",
       "      <th>13262</th>\n",
       "      <td>H</td>\n",
       "      <td>-0.911601</td>\n",
       "      <td>-1.373347</td>\n",
       "      <td>1.624125</td>\n",
       "      <td>0.433924</td>\n",
       "    </tr>\n",
       "    <tr>\n",
       "      <th>13263</th>\n",
       "      <td>H</td>\n",
       "      <td>-1.077801</td>\n",
       "      <td>-1.263307</td>\n",
       "      <td>1.195727</td>\n",
       "      <td>0.717565</td>\n",
       "    </tr>\n",
       "    <tr>\n",
       "      <th>13264</th>\n",
       "      <td>C</td>\n",
       "      <td>-1.313805</td>\n",
       "      <td>-1.296771</td>\n",
       "      <td>34.941534</td>\n",
       "      <td>35.765014</td>\n",
       "    </tr>\n",
       "    <tr>\n",
       "      <th>13265</th>\n",
       "      <td>H</td>\n",
       "      <td>-1.065603</td>\n",
       "      <td>-0.865403</td>\n",
       "      <td>1.227167</td>\n",
       "      <td>1.743203</td>\n",
       "    </tr>\n",
       "    <tr>\n",
       "      <th>13266</th>\n",
       "      <td>H</td>\n",
       "      <td>-0.951413</td>\n",
       "      <td>-0.930826</td>\n",
       "      <td>1.521504</td>\n",
       "      <td>1.574569</td>\n",
       "    </tr>\n",
       "  </tbody>\n",
       "</table>\n",
       "<p>13267 rows × 5 columns</p>\n",
       "</div>"
      ],
      "text/plain": [
       "      typestr  normalized_shift  normalized_prediction       shift  \\\n",
       "0           C          1.411043               1.028855  166.668432   \n",
       "1           C         -1.488488              -1.160149   26.496875   \n",
       "2           H         -0.379123              -0.374193    2.996642   \n",
       "3           H         -0.693572              -0.425799    2.186118   \n",
       "4           C         -1.071960              -1.057871   46.633042   \n",
       "...       ...               ...                    ...         ...   \n",
       "13262       H         -0.911601              -1.373347    1.624125   \n",
       "13263       H         -1.077801              -1.263307    1.195727   \n",
       "13264       C         -1.313805              -1.296771   34.941534   \n",
       "13265       H         -1.065603              -0.865403    1.227167   \n",
       "13266       H         -0.951413              -0.930826    1.521504   \n",
       "\n",
       "       predicted_shift  \n",
       "0           148.192394  \n",
       "1            42.369706  \n",
       "2             3.009350  \n",
       "3             2.876331  \n",
       "4            47.314120  \n",
       "...                ...  \n",
       "13262         0.433924  \n",
       "13263         0.717565  \n",
       "13264        35.765014  \n",
       "13265         1.743203  \n",
       "13266         1.574569  \n",
       "\n",
       "[13267 rows x 5 columns]"
      ]
     },
     "execution_count": 21,
     "metadata": {},
     "output_type": "execute_result"
    }
   ],
   "source": [
    "predicted_df"
   ]
  },
  {
   "cell_type": "markdown",
   "id": "12cbda4f",
   "metadata": {},
   "source": [
    "<u/>**EVALUATE**<u/>"
   ]
  },
  {
   "cell_type": "markdown",
   "id": "6e8e1828",
   "metadata": {},
   "source": [
    "_Let's assess how well the model performs on this external testing set, mean absolute error is a good way of evaluating the prediction accuracy of a regression-based model_"
   ]
  },
  {
   "cell_type": "code",
   "execution_count": 22,
   "id": "3cfb64c3",
   "metadata": {},
   "outputs": [],
   "source": [
    "def mae(x, y):\n",
    "    return sum(abs(x-y))/len(x)"
   ]
  },
  {
   "cell_type": "code",
   "execution_count": 24,
   "id": "d8ccf0fb",
   "metadata": {},
   "outputs": [
    {
     "name": "stdout",
     "output_type": "stream",
     "text": [
      "mean absolute error in PROTON chemical shift prediction: 0.6733254500504908\n",
      "\n",
      "mean absolute error in CARBON chemical shift prediction: 8.364612027313406\n"
     ]
    }
   ],
   "source": [
    "h_df=predicted_df[predicted_df['typestr']=='H']\n",
    "print(f\"mean absolute error in PROTON chemical shift prediction: {mae(h_df['predicted_shift'], h_df['shift'])}\")\n",
    "print()\n",
    "c_df=predicted_df[predicted_df['typestr']=='C']\n",
    "print(f\"mean absolute error in CARBON chemical shift prediction: {mae(c_df['predicted_shift'], c_df['shift'])}\")"
   ]
  },
  {
   "cell_type": "code",
   "execution_count": null,
   "id": "cb84f922",
   "metadata": {},
   "outputs": [],
   "source": []
  }
 ],
 "metadata": {
  "kernelspec": {
   "display_name": "Python 3 (ipykernel)",
   "language": "python",
   "name": "python3"
  },
  "language_info": {
   "codemirror_mode": {
    "name": "ipython",
    "version": 3
   },
   "file_extension": ".py",
   "mimetype": "text/x-python",
   "name": "python",
   "nbconvert_exporter": "python",
   "pygments_lexer": "ipython3",
   "version": "3.8.12"
  }
 },
 "nbformat": 4,
 "nbformat_minor": 5
}
